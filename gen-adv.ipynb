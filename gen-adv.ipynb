{
 "cells": [
  {
   "cell_type": "code",
   "execution_count": 1,
   "id": "bd2d1a98",
   "metadata": {
    "_cell_guid": "b1076dfc-b9ad-4769-8c92-a6c4dae69d19",
    "_uuid": "8f2839f25d086af736a60e9eeb907d3b93b6e0e5",
    "execution": {
     "iopub.execute_input": "2022-12-25T19:41:14.559748Z",
     "iopub.status.busy": "2022-12-25T19:41:14.559178Z",
     "iopub.status.idle": "2022-12-25T19:41:14.566152Z",
     "shell.execute_reply": "2022-12-25T19:41:14.565175Z"
    },
    "papermill": {
     "duration": 0.015322,
     "end_time": "2022-12-25T19:41:14.569157",
     "exception": false,
     "start_time": "2022-12-25T19:41:14.553835",
     "status": "completed"
    },
    "tags": []
   },
   "outputs": [],
   "source": [
    "# # This Python 3 environment comes with many helpful analytics libraries installed\n",
    "# # It is defined by the kaggle/python Docker image: https://github.com/kaggle/docker-python\n",
    "# # For example, here's several helpful packages to load\n",
    "\n",
    "# import numpy as np # linear algebra\n",
    "# import pandas as pd # data processing, CSV file I/O (e.g. pd.read_csv)\n",
    "\n",
    "# # Input data files are available in the read-only \"../input/\" directory\n",
    "# # For example, running this (by clicking run or pressing Shift+Enter) will list all files under the input directory\n",
    "\n",
    "# import os\n",
    "# for dirname, _, filenames in os.walk('/kaggle/input'):\n",
    "#     for filename in filenames:\n",
    "#         print(os.path.join(dirname, filename))\n",
    "\n",
    "# # You can write up to 20GB to the current directory (/kaggle/working/) that gets preserved as output when you create a version using \"Save & Run All\" \n",
    "# # You can also write temporary files to /kaggle/temp/, but they won't be saved outside of the current session"
   ]
  },
  {
   "cell_type": "markdown",
   "id": "d168f785",
   "metadata": {
    "papermill": {
     "duration": 0.002197,
     "end_time": "2022-12-25T19:41:14.574290",
     "exception": false,
     "start_time": "2022-12-25T19:41:14.572093",
     "status": "completed"
    },
    "tags": []
   },
   "source": [
    "## GANS\n",
    "\n",
    "- [introduction to GANs](https://wiki.pathmind.com/generative-adversarial-network-gan) \n",
    "- [deep conv GANs paper](https://arxiv.org/abs/1511.06434)\n",
    "- [difusion vs. GANs](\"https://arxiv.org/abs/2105.05233\")"
   ]
  },
  {
   "cell_type": "code",
   "execution_count": 2,
   "id": "be54e438",
   "metadata": {
    "execution": {
     "iopub.execute_input": "2022-12-25T19:41:14.581604Z",
     "iopub.status.busy": "2022-12-25T19:41:14.581114Z",
     "iopub.status.idle": "2022-12-25T19:41:17.105100Z",
     "shell.execute_reply": "2022-12-25T19:41:17.103596Z"
    },
    "papermill": {
     "duration": 2.5314,
     "end_time": "2022-12-25T19:41:17.108010",
     "exception": false,
     "start_time": "2022-12-25T19:41:14.576610",
     "status": "completed"
    },
    "tags": []
   },
   "outputs": [],
   "source": [
    "import os\n",
    "import torch\n",
    "import torchvision\n",
    "from torch.utils.data import DataLoader , Dataset\n",
    "import torch.nn as nn\n",
    "import matplotlib.pyplot as plt\n",
    "import numpy as np\n",
    "from torchvision import transforms\n",
    "from PIL import Image\n"
   ]
  },
  {
   "cell_type": "code",
   "execution_count": 3,
   "id": "191a2ab1",
   "metadata": {
    "execution": {
     "iopub.execute_input": "2022-12-25T19:41:17.116137Z",
     "iopub.status.busy": "2022-12-25T19:41:17.115383Z",
     "iopub.status.idle": "2022-12-25T19:41:17.652370Z",
     "shell.execute_reply": "2022-12-25T19:41:17.649486Z"
    },
    "papermill": {
     "duration": 0.544569,
     "end_time": "2022-12-25T19:41:17.655337",
     "exception": false,
     "start_time": "2022-12-25T19:41:17.110768",
     "status": "completed"
    },
    "tags": []
   },
   "outputs": [
    {
     "name": "stdout",
     "output_type": "stream",
     "text": [
      " monet: 300 photos: 7038\n"
     ]
    }
   ],
   "source": [
    "print(f\" monet: {len(os.listdir('/kaggle/input/gan-getting-started/monet_jpg'))}\", \n",
    "     f\"photos: {len(os.listdir('/kaggle/input/gan-getting-started/photo_jpg'))}\")"
   ]
  },
  {
   "cell_type": "code",
   "execution_count": 4,
   "id": "e06d12df",
   "metadata": {
    "execution": {
     "iopub.execute_input": "2022-12-25T19:41:17.662759Z",
     "iopub.status.busy": "2022-12-25T19:41:17.662287Z",
     "iopub.status.idle": "2022-12-25T19:41:17.671576Z",
     "shell.execute_reply": "2022-12-25T19:41:17.670694Z"
    },
    "papermill": {
     "duration": 0.015582,
     "end_time": "2022-12-25T19:41:17.673566",
     "exception": false,
     "start_time": "2022-12-25T19:41:17.657984",
     "status": "completed"
    },
    "tags": []
   },
   "outputs": [],
   "source": [
    "# Discriminator network\n",
    "class Discriminator(nn.Module):\n",
    "    def __init__(self, in_channel, out_channel):\n",
    "        super(Discriminator, self).__init__()\n",
    "        self.disc = nn.Sequential(\n",
    "        nn.Conv2d(in_channels= in_channel, out_channels= out_channel,\n",
    "                  kernel_size= (5,5), stride= (2,2), padding= (1,1)), \n",
    "            nn.LeakyReLU(0.2),\n",
    "            self.block(out_channel, 2*out_channel, 5, 2, 1),\n",
    "            self.block(2*out_channel, 4*out_channel, 5,2,1),\n",
    "            self.block(4*out_channel, 8*out_channel, 5,2,1),\n",
    "            nn.Conv2d(8*out_channel, 1 ,5, 2, 0 ),\n",
    "            nn.Sigmoid()\n",
    "            \n",
    "        )\n",
    "    \n",
    "    def block( self, in_channel, out_channel, kernel_size, stride, padding):\n",
    "        return nn.Sequential(\n",
    "        nn.Conv2d(in_channels= in_channel , out_channels = out_channel,\n",
    "                 kernel_size= kernel_size ,stride= stride \n",
    "                  , padding = padding, bias = False),\n",
    "            nn.BatchNorm2d(out_channel),\n",
    "            nn.LeakyReLU(0.2)\n",
    "        )\n",
    "    \n",
    "    def forward(self, x):\n",
    "        return self.disc(x)\n",
    "        \n",
    "        "
   ]
  },
  {
   "cell_type": "code",
   "execution_count": 5,
   "id": "e27caa1b",
   "metadata": {
    "execution": {
     "iopub.execute_input": "2022-12-25T19:41:17.680960Z",
     "iopub.status.busy": "2022-12-25T19:41:17.680141Z",
     "iopub.status.idle": "2022-12-25T19:41:17.690963Z",
     "shell.execute_reply": "2022-12-25T19:41:17.689520Z"
    },
    "papermill": {
     "duration": 0.017226,
     "end_time": "2022-12-25T19:41:17.693541",
     "exception": false,
     "start_time": "2022-12-25T19:41:17.676315",
     "status": "completed"
    },
    "tags": []
   },
   "outputs": [],
   "source": [
    "class Generator(nn.Module):\n",
    "    def __init__(self, in_channel, out_channel , output_channel):\n",
    "        \n",
    "        super(Generator , self).__init__()\n",
    "        \n",
    "        self.Gen = nn.Sequential( self.block(in_channel, out_channel*16, 5,2,1),\n",
    "                                self.block(out_channel*16, out_channel*8, 5,2,1),\n",
    "                                self.block(in_channel*8, out_channel*4, 5,2,1),\n",
    "                                self.block(in_channel*4, out_channel*2, 5,2,1),\n",
    "                                nn.ConvTranspose2d(out_channel*2 , output_channel, 5,2,1),\n",
    "                                nn.ReLU(),\n",
    "                                nn.Tanh()\n",
    "                                    )\n",
    "        \n",
    "        \n",
    "        \n",
    "    def block(self, in_channel, out_channel, kernel_size, stride, padding):\n",
    "        return nn.Sequential(nn.ConvTranspose2d(in_channel, out_channel,\n",
    "                                                kernel_size , stride, padding), \n",
    "                             nn.BatchNorm2d(out_channel),\n",
    "                            nn.ReLU())\n",
    "    \n",
    "    def forward(self, x):\n",
    "        return self.Gen(x)"
   ]
  },
  {
   "cell_type": "code",
   "execution_count": null,
   "id": "142fbc98",
   "metadata": {
    "papermill": {
     "duration": 0.002056,
     "end_time": "2022-12-25T19:41:17.698205",
     "exception": false,
     "start_time": "2022-12-25T19:41:17.696149",
     "status": "completed"
    },
    "tags": []
   },
   "outputs": [],
   "source": []
  }
 ],
 "metadata": {
  "kernelspec": {
   "display_name": "Python 3",
   "language": "python",
   "name": "python3"
  },
  "language_info": {
   "codemirror_mode": {
    "name": "ipython",
    "version": 3
   },
   "file_extension": ".py",
   "mimetype": "text/x-python",
   "name": "python",
   "nbconvert_exporter": "python",
   "pygments_lexer": "ipython3",
   "version": "3.7.12"
  },
  "papermill": {
   "default_parameters": {},
   "duration": 14.134667,
   "end_time": "2022-12-25T19:41:19.987477",
   "environment_variables": {},
   "exception": null,
   "input_path": "__notebook__.ipynb",
   "output_path": "__notebook__.ipynb",
   "parameters": {},
   "start_time": "2022-12-25T19:41:05.852810",
   "version": "2.3.4"
  }
 },
 "nbformat": 4,
 "nbformat_minor": 5
}
